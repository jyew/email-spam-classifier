{
 "cells": [
  {
   "cell_type": "code",
   "execution_count": 5,
   "id": "84aed0e7",
   "metadata": {},
   "outputs": [],
   "source": [
    "# import important libraries\n",
    "import pandas as pd\n",
    "import numpy as np\n",
    "\n",
    "data_original = pd.read_csv(\"dataset/dataset_spams.csv\", sep=\",\")"
   ]
  },
  {
   "cell_type": "code",
   "execution_count": 14,
   "id": "e9de56cc",
   "metadata": {},
   "outputs": [],
   "source": [
    "df = data_original.copy()"
   ]
  },
  {
   "cell_type": "code",
   "execution_count": 15,
   "id": "2aeb26b2",
   "metadata": {},
   "outputs": [
    {
     "data": {
      "text/html": [
       "<div>\n",
       "<style scoped>\n",
       "    .dataframe tbody tr th:only-of-type {\n",
       "        vertical-align: middle;\n",
       "    }\n",
       "\n",
       "    .dataframe tbody tr th {\n",
       "        vertical-align: top;\n",
       "    }\n",
       "\n",
       "    .dataframe thead th {\n",
       "        text-align: right;\n",
       "    }\n",
       "</style>\n",
       "<table border=\"1\" class=\"dataframe\">\n",
       "  <thead>\n",
       "    <tr style=\"text-align: right;\">\n",
       "      <th></th>\n",
       "      <th>text</th>\n",
       "      <th>spam</th>\n",
       "    </tr>\n",
       "  </thead>\n",
       "  <tbody>\n",
       "    <tr>\n",
       "      <th>0</th>\n",
       "      <td>Subject: naturally irresistible your corporate...</td>\n",
       "      <td>1</td>\n",
       "    </tr>\n",
       "    <tr>\n",
       "      <th>1</th>\n",
       "      <td>Subject: the stock trading gunslinger  fanny i...</td>\n",
       "      <td>1</td>\n",
       "    </tr>\n",
       "    <tr>\n",
       "      <th>2</th>\n",
       "      <td>Subject: unbelievable new homes made easy  im ...</td>\n",
       "      <td>1</td>\n",
       "    </tr>\n",
       "    <tr>\n",
       "      <th>3</th>\n",
       "      <td>Subject: 4 color printing special  request add...</td>\n",
       "      <td>1</td>\n",
       "    </tr>\n",
       "    <tr>\n",
       "      <th>4</th>\n",
       "      <td>Subject: do not have money , get software cds ...</td>\n",
       "      <td>1</td>\n",
       "    </tr>\n",
       "  </tbody>\n",
       "</table>\n",
       "</div>"
      ],
      "text/plain": [
       "                                                text  spam\n",
       "0  Subject: naturally irresistible your corporate...     1\n",
       "1  Subject: the stock trading gunslinger  fanny i...     1\n",
       "2  Subject: unbelievable new homes made easy  im ...     1\n",
       "3  Subject: 4 color printing special  request add...     1\n",
       "4  Subject: do not have money , get software cds ...     1"
      ]
     },
     "execution_count": 15,
     "metadata": {},
     "output_type": "execute_result"
    }
   ],
   "source": [
    "df.head()"
   ]
  },
  {
   "cell_type": "code",
   "execution_count": 16,
   "id": "4dd09aae",
   "metadata": {},
   "outputs": [
    {
     "name": "stdout",
     "output_type": "stream",
     "text": [
      "<class 'pandas.core.frame.DataFrame'>\n",
      "RangeIndex: 5728 entries, 0 to 5727\n",
      "Data columns (total 2 columns):\n",
      " #   Column  Non-Null Count  Dtype \n",
      "---  ------  --------------  ----- \n",
      " 0   text    5728 non-null   object\n",
      " 1   spam    5728 non-null   int64 \n",
      "dtypes: int64(1), object(1)\n",
      "memory usage: 89.6+ KB\n"
     ]
    }
   ],
   "source": [
    "df.info()"
   ]
  },
  {
   "cell_type": "code",
   "execution_count": 17,
   "id": "1226e302",
   "metadata": {},
   "outputs": [
    {
     "data": {
      "text/plain": [
       "0    4360\n",
       "1    1368\n",
       "Name: spam, dtype: int64"
      ]
     },
     "execution_count": 17,
     "metadata": {},
     "output_type": "execute_result"
    }
   ],
   "source": [
    "df['spam'].value_counts()"
   ]
  },
  {
   "cell_type": "markdown",
   "id": "8847bf30",
   "metadata": {},
   "source": [
    "## Looks like we have imbalanced dataset here!\n",
    "Because there is a lot of non-spam here, let's try to undersample the non-spam side here to be equal with spam."
   ]
  },
  {
   "cell_type": "code",
   "execution_count": 20,
   "id": "91931677",
   "metadata": {},
   "outputs": [
    {
     "data": {
      "text/html": [
       "<div>\n",
       "<style scoped>\n",
       "    .dataframe tbody tr th:only-of-type {\n",
       "        vertical-align: middle;\n",
       "    }\n",
       "\n",
       "    .dataframe tbody tr th {\n",
       "        vertical-align: top;\n",
       "    }\n",
       "\n",
       "    .dataframe thead th {\n",
       "        text-align: right;\n",
       "    }\n",
       "</style>\n",
       "<table border=\"1\" class=\"dataframe\">\n",
       "  <thead>\n",
       "    <tr style=\"text-align: right;\">\n",
       "      <th></th>\n",
       "      <th>text</th>\n",
       "      <th>spam</th>\n",
       "    </tr>\n",
       "  </thead>\n",
       "  <tbody>\n",
       "    <tr>\n",
       "      <th>2424</th>\n",
       "      <td>Subject: agenda for houston visit  dear vince ...</td>\n",
       "      <td>0</td>\n",
       "    </tr>\n",
       "    <tr>\n",
       "      <th>2230</th>\n",
       "      <td>Subject: re : risk 2000 panel discussion , bos...</td>\n",
       "      <td>0</td>\n",
       "    </tr>\n",
       "    <tr>\n",
       "      <th>3138</th>\n",
       "      <td>Subject: risk boston  please read the attached...</td>\n",
       "      <td>0</td>\n",
       "    </tr>\n",
       "    <tr>\n",
       "      <th>5347</th>\n",
       "      <td>Subject: re : joint probabilities  michael  a ...</td>\n",
       "      <td>0</td>\n",
       "    </tr>\n",
       "    <tr>\n",
       "      <th>2803</th>\n",
       "      <td>Subject: energy futures contracts project  hi ...</td>\n",
       "      <td>0</td>\n",
       "    </tr>\n",
       "    <tr>\n",
       "      <th>...</th>\n",
       "      <td>...</td>\n",
       "      <td>...</td>\n",
       "    </tr>\n",
       "    <tr>\n",
       "      <th>2273</th>\n",
       "      <td>Subject: wti maket maker simulation model  joh...</td>\n",
       "      <td>0</td>\n",
       "    </tr>\n",
       "    <tr>\n",
       "      <th>2050</th>\n",
       "      <td>Subject: re : price process parameter esimator...</td>\n",
       "      <td>0</td>\n",
       "    </tr>\n",
       "    <tr>\n",
       "      <th>3340</th>\n",
       "      <td>Subject: constellation delta positions  jim , ...</td>\n",
       "      <td>0</td>\n",
       "    </tr>\n",
       "    <tr>\n",
       "      <th>1652</th>\n",
       "      <td>Subject: wharton  hi jeff !  i know you receiv...</td>\n",
       "      <td>0</td>\n",
       "    </tr>\n",
       "    <tr>\n",
       "      <th>4607</th>\n",
       "      <td>Subject: greg ball interview  shirley :  could...</td>\n",
       "      <td>0</td>\n",
       "    </tr>\n",
       "  </tbody>\n",
       "</table>\n",
       "<p>1368 rows × 2 columns</p>\n",
       "</div>"
      ],
      "text/plain": [
       "                                                   text  spam\n",
       "2424  Subject: agenda for houston visit  dear vince ...     0\n",
       "2230  Subject: re : risk 2000 panel discussion , bos...     0\n",
       "3138  Subject: risk boston  please read the attached...     0\n",
       "5347  Subject: re : joint probabilities  michael  a ...     0\n",
       "2803  Subject: energy futures contracts project  hi ...     0\n",
       "...                                                 ...   ...\n",
       "2273  Subject: wti maket maker simulation model  joh...     0\n",
       "2050  Subject: re : price process parameter esimator...     0\n",
       "3340  Subject: constellation delta positions  jim , ...     0\n",
       "1652  Subject: wharton  hi jeff !  i know you receiv...     0\n",
       "4607  Subject: greg ball interview  shirley :  could...     0\n",
       "\n",
       "[1368 rows x 2 columns]"
      ]
     },
     "execution_count": 20,
     "metadata": {},
     "output_type": "execute_result"
    }
   ],
   "source": [
    "ham_indices = df[df.spam == 0].index\n",
    "random_indices = np.random.choice(ham_indices, 1368, replace=False)\n",
    "ham_sample = df.loc[random_indices]\n",
    "ham_sample"
   ]
  },
  {
   "cell_type": "code",
   "execution_count": 21,
   "id": "70956cf0",
   "metadata": {},
   "outputs": [
    {
     "data": {
      "text/plain": [
       "0    1368\n",
       "1    1368\n",
       "Name: spam, dtype: int64"
      ]
     },
     "execution_count": 21,
     "metadata": {},
     "output_type": "execute_result"
    }
   ],
   "source": [
    "# combine reduced ham with spam\n",
    "df2 = pd.concat([ham_sample, df[df['spam'] == 1]], verify_integrity=True)\n",
    "df2['spam'].value_counts()"
   ]
  },
  {
   "cell_type": "code",
   "execution_count": 22,
   "id": "c3ed4b1c",
   "metadata": {},
   "outputs": [
    {
     "name": "stdout",
     "output_type": "stream",
     "text": [
      "value counts of y_train is : 0    1231\n",
      "1    1231\n",
      "Name: spam, dtype: int64\n"
     ]
    }
   ],
   "source": [
    "# now that our data is balanced, let's split into training and testing set\n",
    "from sklearn.model_selection import train_test_split\n",
    "X_train, X_test, y_train, y_test = train_test_split(df2['text'], df2['spam'], \n",
    "                                                    test_size=0.1, \n",
    "                                                    stratify=df2['spam'],\n",
    "                                                    random_state=1)\n",
    "print('value counts of y_train is :', y_train.value_counts())"
   ]
  },
  {
   "cell_type": "markdown",
   "id": "fad5ee25",
   "metadata": {},
   "source": [
    "## Feature Extraction"
   ]
  },
  {
   "cell_type": "code",
   "execution_count": 23,
   "id": "0dbd23ee",
   "metadata": {},
   "outputs": [
    {
     "data": {
      "text/plain": [
       "'Subject: unbelievable new homes made easy  im wanting to show you this  homeowner  you have been pre - approved for a $ 454 , 169 home loan at a 3 . 72 fixed rate .  this offer is being extended to you unconditionally and your credit is in no way a factor .  to take advantage of this limited time opportunity  all we ask is that you visit our website and complete  the 1 minute post approval form  look foward to hearing from you ,  dorcas pittman'"
      ]
     },
     "execution_count": 23,
     "metadata": {},
     "output_type": "execute_result"
    }
   ],
   "source": [
    "X_train[2]"
   ]
  },
  {
   "cell_type": "code",
   "execution_count": 24,
   "id": "0f8bb918",
   "metadata": {},
   "outputs": [
    {
     "name": "stderr",
     "output_type": "stream",
     "text": [
      "[nltk_data] Downloading package stopwords to\n",
      "[nltk_data]     C:\\Users\\jordan.yew\\AppData\\Roaming\\nltk_data...\n",
      "[nltk_data]   Unzipping corpora\\stopwords.zip.\n",
      "[nltk_data] Downloading package wordnet to\n",
      "[nltk_data]     C:\\Users\\jordan.yew\\AppData\\Roaming\\nltk_data...\n",
      "[nltk_data]   Package wordnet is already up-to-date!\n"
     ]
    }
   ],
   "source": [
    "# I would use tfvectorizer here\n",
    "# text preprocessing part\n",
    "import re\n",
    "import nltk\n",
    "nltk.download('stopwords')\n",
    "nltk.download('wordnet')\n",
    "\n",
    "from nltk.corpus import stopwords\n",
    "from nltk.stem import WordNetLemmatizer\n",
    "from nltk.stem.porter import PorterStemmer\n",
    "\n",
    "stemmer = WordNetLemmatizer()\n",
    "porter = PorterStemmer()\n",
    "STOPWORDS = set(stopwords.words('english'))\n",
    "\n",
    "def preprocessingText(corpus, lowercase=True, rmPunctuation=True, rpURL=True, rpNumber=True, stemming=True):\n",
    "    \"\"\"Input is assumed to be vector of documents\"\"\"\n",
    "\n",
    "    documents = []\n",
    "    for text in corpus:\n",
    "        document = text\n",
    "\n",
    "        # convert bytes into text\n",
    "        if type(text) == bytes:    \n",
    "            document = text.decode('utf-8', errors='ignore')\n",
    "\n",
    "        # HYPERPARAMETER\n",
    "        # Converting to Lowercase\n",
    "        if lowercase:\n",
    "            document = document.lower()\n",
    "\n",
    "        # replace URL\n",
    "        if rpURL:\n",
    "            # replace URL\n",
    "            document = re.sub(r'http\\S+', 'url', document, flags=re.MULTILINE)\n",
    "\n",
    "        # replace numbers\n",
    "        if rpNumber:\n",
    "            document = re.sub(\"\\d+\", \"number\", document)\n",
    "\n",
    "        # remove all special characters including punctuation\n",
    "        if rmPunctuation:\n",
    "            # only keep word\n",
    "            document = re.sub(r'\\W', ' ', document)\n",
    "            # remove all single characters\n",
    "            document = re.sub(r'\\s+[a-zA-Z]\\s+', ' ', document)\n",
    "            # Remove single characters from the start\n",
    "            document = re.sub(r'\\^[a-zA-Z]\\s+', ' ', document)\n",
    "\n",
    "        # OTHER PREPROCESSING METHODS\n",
    "        # Substituting multiple spaces with single space\n",
    "        document = re.sub(r'\\s+', ' ', document, flags=re.I)\n",
    "        # Removing prefixed 'b'\n",
    "        document = re.sub(r'^b\\s+', '', document)\n",
    "        \n",
    "        # removing stopwords\n",
    "        document = document.split()\n",
    "        document = [word for word in document if word not in STOPWORDS]\n",
    "\n",
    "        if stemming:\n",
    "            # Lemmatization\n",
    "            document = [stemmer.lemmatize(word) for word in document]\n",
    "            # stemming\n",
    "            document = [porter.stem(word) for word in document]\n",
    "\n",
    "        document = ' '.join(document)\n",
    "        documents.append(document)\n",
    "    return documents"
   ]
  },
  {
   "cell_type": "code",
   "execution_count": 25,
   "id": "2003c9f9",
   "metadata": {},
   "outputs": [
    {
     "data": {
      "text/plain": [
       "array([[0., 0., 0., ..., 0., 0., 0.],\n",
       "       [0., 0., 0., ..., 0., 0., 0.],\n",
       "       [0., 0., 0., ..., 0., 0., 0.],\n",
       "       ...,\n",
       "       [0., 0., 0., ..., 0., 0., 0.],\n",
       "       [0., 0., 0., ..., 0., 0., 0.],\n",
       "       [0., 0., 0., ..., 0., 0., 0.]])"
      ]
     },
     "execution_count": 25,
     "metadata": {},
     "output_type": "execute_result"
    }
   ],
   "source": [
    "from sklearn.feature_extraction.text import TfidfVectorizer\n",
    "\n",
    "# perform text processing before fitting\n",
    "tfid = TfidfVectorizer()\n",
    "tfid.fit(preprocessingText(X_train))\n",
    "\n",
    "X_train_tf = tfid.transform(preprocessingText(X_train))\n",
    "X_test_tf = tfid.transform(preprocessingText(X_test))\n",
    "X_train_tf.toarray()"
   ]
  },
  {
   "cell_type": "markdown",
   "id": "506fef89",
   "metadata": {},
   "source": [
    "## Model Fitting\n",
    "Decision tree, logistic regression, knn classifier. hyperparameters and predict generalization performance using cross validation. Use F1-score as a performance measure"
   ]
  },
  {
   "cell_type": "code",
   "execution_count": 26,
   "id": "eb9740ef",
   "metadata": {},
   "outputs": [
    {
     "data": {
      "image/png": "[encoded data removed]",
      "text/plain": [
       "<Figure size 864x720 with 1 Axes>"
      ]
     },
     "metadata": {
      "needs_background": "light"
     },
     "output_type": "display_data"
    }
   ],
   "source": [
    "# let's do a quick comparison on different models\n",
    "from sklearn.model_selection import cross_val_score\n",
    "from sklearn.linear_model import LogisticRegression\n",
    "from sklearn.neighbors import KNeighborsClassifier\n",
    "from sklearn.tree import DecisionTreeClassifier\n",
    "from sklearn.metrics import f1_score\n",
    "import seaborn as sns\n",
    "import matplotlib.pyplot as plt\n",
    "\n",
    "# first logistic regression\n",
    "Cs = [1e-3,0.001,0.01,1,10,100]\n",
    "models = [LogisticRegression(C=c, solver='liblinear') for c in Cs]\n",
    "scores = []\n",
    "\n",
    "for C, model in zip(Cs, models):\n",
    "    model_name = str(C)\n",
    "    model_scores = cross_val_score(estimator=model, X=X_train_tf.toarray(), y=y_train, cv=5, scoring='f1')\n",
    "    for fold_idx, score in enumerate(model_scores):\n",
    "        scores.append((model_name, fold_idx, score))\n",
    "\n",
    "cv_df = pd.DataFrame(scores, columns=['name', \"fold_idx\", \"f1score\"])\n",
    "\n",
    "fig, ax = plt.subplots(figsize=(12,10))\n",
    "sns.boxplot(x='name', y='f1score', data=cv_df)\n",
    "sns.stripplot(x='name', y='f1score', data=cv_df, size=8, jitter=True, edgecolor='gray', linewidth=2)\n",
    "plt.show()"
   ]
  },
  {
   "cell_type": "markdown",
   "id": "810ee49a",
   "metadata": {},
   "source": [
    "C = 100 is the best here for logistic regression"
   ]
  },
  {
   "cell_type": "code",
   "execution_count": 27,
   "id": "3c8ee67f",
   "metadata": {},
   "outputs": [
    {
     "data": {
      "image/png": "[encoded data removed]",
      "text/plain": [
       "<Figure size 864x720 with 1 Axes>"
      ]
     },
     "metadata": {
      "needs_background": "light"
     },
     "output_type": "display_data"
    }
   ],
   "source": [
    "# second decision tree\n",
    "max_depths = [12,25,50,None]\n",
    "names = ['Depth_{}'.format(x) for x in max_depths]\n",
    "models = [DecisionTreeClassifier(criterion='gini', max_depth=md) for md in max_depths]\n",
    "\n",
    "scores = []\n",
    "\n",
    "for name, model in zip(names, models):\n",
    "    model_name = name\n",
    "    model_scores = cross_val_score(estimator=model, X=X_train_tf.toarray(), y=y_train, cv=5, scoring='f1')\n",
    "    for fold_idx, score in enumerate(model_scores):\n",
    "        scores.append((model_name, fold_idx, score))\n",
    "\n",
    "cv_df = pd.DataFrame(scores, columns=['name', \"fold_idx\", \"f1score\"])\n",
    "\n",
    "fig, ax = plt.subplots(figsize=(12,10))\n",
    "sns.boxplot(x='name', y='f1score', data=cv_df)\n",
    "sns.stripplot(x='name', y='f1score', data=cv_df, size=8, jitter=True, edgecolor='gray', linewidth=2)\n",
    "plt.show()"
   ]
  },
  {
   "cell_type": "markdown",
   "id": "4706903d",
   "metadata": {},
   "source": [
    "depth = 25 is the best for decision tree, f1 score is lower than logistic"
   ]
  },
  {
   "cell_type": "code",
   "execution_count": 28,
   "id": "9aae9aa6",
   "metadata": {},
   "outputs": [
    {
     "data": {
      "image/png": "[encoded data removed]",
      "text/plain": [
       "<Figure size 864x720 with 1 Axes>"
      ]
     },
     "metadata": {
      "needs_background": "light"
     },
     "output_type": "display_data"
    }
   ],
   "source": [
    "# third KNNs here\n",
    "neighbors = [2, 3, 5, 10, 20]\n",
    "knn_names = ['neighbor_{}'.format(n) for n in neighbors]\n",
    "models = [KNeighborsClassifier(n_neighbors=n, p=2, metric='minkowski') for n in neighbors]\n",
    "\n",
    "scores = []\n",
    "\n",
    "for name, model in zip(knn_names, models):\n",
    "    model_name = name\n",
    "    model_scores = cross_val_score(estimator=model, X=X_train_tf.toarray(), y=y_train, cv=5, scoring='f1')\n",
    "    for fold_idx, score in enumerate(model_scores):\n",
    "        scores.append((model_name, fold_idx, score))\n",
    "\n",
    "cv_df = pd.DataFrame(scores, columns=['name', \"fold_idx\", \"f1score\"])\n",
    "\n",
    "fig, ax = plt.subplots(figsize=(12,10))\n",
    "sns.boxplot(x='name', y='f1score', data=cv_df)\n",
    "sns.stripplot(x='name', y='f1score', data=cv_df, size=8, jitter=True, edgecolor='gray', linewidth=2)\n",
    "plt.show()"
   ]
  },
  {
   "cell_type": "markdown",
   "id": "4be3e3bf",
   "metadata": {},
   "source": [
    "5 neighbor is the best among all knn models"
   ]
  },
  {
   "cell_type": "markdown",
   "id": "93a3f77a",
   "metadata": {},
   "source": [
    "## Create a forth classifier that is the ensemble of the three classifiers"
   ]
  },
  {
   "cell_type": "code",
   "execution_count": 29,
   "id": "6f706f43",
   "metadata": {},
   "outputs": [],
   "source": [
    "# let's use soft voting here\n",
    "from sklearn.ensemble import VotingClassifier\n",
    "\n",
    "clf1 = LogisticRegression(C=100, solver='liblinear')\n",
    "clf2 = DecisionTreeClassifier(criterion='gini', max_depth=25)\n",
    "clf3 = KNeighborsClassifier(n_neighbors=5, p=2, metric='minkowski')\n",
    "\n",
    "eclf1 = VotingClassifier(estimators=[         \n",
    "                        ('lr', clf1), ('dt', clf2), ('knn', clf3)], voting='soft')\n"
   ]
  },
  {
   "cell_type": "code",
   "execution_count": 30,
   "id": "cfbafc4d",
   "metadata": {},
   "outputs": [],
   "source": [
    "eclf1.fit(X_train_tf.toarray(), y_train)\n",
    "y_pred = eclf1.predict(X_test_tf.toarray())"
   ]
  },
  {
   "cell_type": "code",
   "execution_count": 31,
   "id": "bc3f7889",
   "metadata": {},
   "outputs": [
    {
     "data": {
      "image/png": "[encoded data removed]",
      "text/plain": [
       "<Figure size 432x288 with 2 Axes>"
      ]
     },
     "metadata": {
      "needs_background": "light"
     },
     "output_type": "display_data"
    },
    {
     "name": "stdout",
     "output_type": "stream",
     "text": [
      "accuracy score on testing data is 98.18%\n",
      "precision score on testing data is 97.14%\n",
      "recall score on testing data is 99.27%\n",
      "f1 score on testing data is 98.19%\n"
     ]
    }
   ],
   "source": [
    "from sklearn.metrics import plot_confusion_matrix\n",
    "from sklearn.metrics import accuracy_score\n",
    "from sklearn.metrics import precision_score\n",
    "from sklearn.metrics import recall_score\n",
    "from sklearn.metrics import f1_score\n",
    "\n",
    "\n",
    "plot_confusion_matrix(eclf1, X_test_tf.toarray(), y_test)\n",
    "plt.show()\n",
    "\n",
    "print(\"accuracy score on testing data is {:.2f}%\".format(accuracy_score(y_test, y_pred) * 100 ))\n",
    "print(\"precision score on testing data is {:.2f}%\".format(precision_score(y_test, y_pred) * 100 ))\n",
    "print(\"recall score on testing data is {:.2f}%\".format(recall_score(y_test, y_pred) * 100 ))\n",
    "print(\"f1 score on testing data is {:.2f}%\".format(f1_score(y_test, y_pred) * 100 ))"
   ]
  },
  {
   "cell_type": "markdown",
   "id": "19ddbc44",
   "metadata": {},
   "source": [
    "Looks quite good! Three models ensembled together to give us a F1 score of 98.19%. Let's export our model..."
   ]
  },
  {
   "cell_type": "code",
   "execution_count": 32,
   "id": "6ceb3c13",
   "metadata": {},
   "outputs": [
    {
     "data": {
      "text/plain": [
       "['finalized_model.sav']"
      ]
     },
     "execution_count": 32,
     "metadata": {},
     "output_type": "execute_result"
    }
   ],
   "source": [
    "import joblib\n",
    "\n",
    "filename1 = 'tfid_convertor.sav'\n",
    "joblib.dump(tfid, filename1)\n",
    "\n",
    "filename2 = 'finalized_model.sav'\n",
    "joblib.dump(eclf1, filename2)"
   ]
  },
  {
   "cell_type": "code",
   "execution_count": null,
   "id": "e7e504cd",
   "metadata": {},
   "outputs": [],
   "source": []
  }
 ],
 "metadata": {
  "kernelspec": {
   "display_name": "Python 3",
   "language": "python",
   "name": "python3"
  },
  "language_info": {
   "codemirror_mode": {
    "name": "ipython",
    "version": 3
   },
   "file_extension": ".py",
   "mimetype": "text/x-python",
   "name": "python",
   "nbconvert_exporter": "python",
   "pygments_lexer": "ipython3",
   "version": "3.8.8"
  }
 },
 "nbformat": 4,
 "nbformat_minor": 5
}
