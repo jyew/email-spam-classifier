{
 "cells": [
  {
   "cell_type": "markdown",
   "id": "9d780f4c",
   "metadata": {},
   "source": [
    "# Problem Statement\n",
    "This serves as a gentle introduction to one of the NLP tasks: text classification, specifically spam email or phishing email identification. Dataset originates from Enron, https://www2.aueb.gr/users/ion/data/enron-spam/. For convenient purpose, I took the consolidated dataset from Kaggle, https://www.kaggle.com/datasets/venky73/spam-mails-dataset.\n"
   ]
  },
  {
   "cell_type": "code",
   "execution_count": 1,
   "id": "ed44c29c",
   "metadata": {},
   "outputs": [],
   "source": [
    "# import necessary libraries\n",
    "import pandas as pd\n",
    "import numpy as np"
   ]
  },
  {
   "cell_type": "code",
   "execution_count": 2,
   "id": "ff06d8d5",
   "metadata": {},
   "outputs": [
    {
     "name": "stdout",
     "output_type": "stream",
     "text": [
      "<class 'pandas.core.frame.DataFrame'>\n",
      "RangeIndex: 5171 entries, 0 to 5170\n",
      "Data columns (total 4 columns):\n",
      " #   Column      Non-Null Count  Dtype \n",
      "---  ------      --------------  ----- \n",
      " 0   Unnamed: 0  5171 non-null   int64 \n",
      " 1   label       5171 non-null   object\n",
      " 2   text        5171 non-null   object\n",
      " 3   label_num   5171 non-null   int64 \n",
      "dtypes: int64(2), object(2)\n",
      "memory usage: 161.7+ KB\n"
     ]
    }
   ],
   "source": [
    "df = pd.read_csv(\"spam_ham_dataset.csv\", sep=\",\")\n",
    "df.info()"
   ]
  },
  {
   "cell_type": "code",
   "execution_count": 3,
   "id": "ead754fb",
   "metadata": {},
   "outputs": [
    {
     "data": {
      "text/html": [
       "<div>\n",
       "<style scoped>\n",
       "    .dataframe tbody tr th:only-of-type {\n",
       "        vertical-align: middle;\n",
       "    }\n",
       "\n",
       "    .dataframe tbody tr th {\n",
       "        vertical-align: top;\n",
       "    }\n",
       "\n",
       "    .dataframe thead th {\n",
       "        text-align: right;\n",
       "    }\n",
       "</style>\n",
       "<table border=\"1\" class=\"dataframe\">\n",
       "  <thead>\n",
       "    <tr style=\"text-align: right;\">\n",
       "      <th></th>\n",
       "      <th>Unnamed: 0</th>\n",
       "      <th>label</th>\n",
       "      <th>text</th>\n",
       "      <th>label_num</th>\n",
       "    </tr>\n",
       "  </thead>\n",
       "  <tbody>\n",
       "    <tr>\n",
       "      <th>0</th>\n",
       "      <td>605</td>\n",
       "      <td>ham</td>\n",
       "      <td>Subject: enron methanol ; meter # : 988291\\r\\n...</td>\n",
       "      <td>0</td>\n",
       "    </tr>\n",
       "    <tr>\n",
       "      <th>1</th>\n",
       "      <td>2349</td>\n",
       "      <td>ham</td>\n",
       "      <td>Subject: hpl nom for january 9 , 2001\\r\\n( see...</td>\n",
       "      <td>0</td>\n",
       "    </tr>\n",
       "    <tr>\n",
       "      <th>2</th>\n",
       "      <td>3624</td>\n",
       "      <td>ham</td>\n",
       "      <td>Subject: neon retreat\\r\\nho ho ho , we ' re ar...</td>\n",
       "      <td>0</td>\n",
       "    </tr>\n",
       "    <tr>\n",
       "      <th>3</th>\n",
       "      <td>4685</td>\n",
       "      <td>spam</td>\n",
       "      <td>Subject: photoshop , windows , office . cheap ...</td>\n",
       "      <td>1</td>\n",
       "    </tr>\n",
       "    <tr>\n",
       "      <th>4</th>\n",
       "      <td>2030</td>\n",
       "      <td>ham</td>\n",
       "      <td>Subject: re : indian springs\\r\\nthis deal is t...</td>\n",
       "      <td>0</td>\n",
       "    </tr>\n",
       "    <tr>\n",
       "      <th>5</th>\n",
       "      <td>2949</td>\n",
       "      <td>ham</td>\n",
       "      <td>Subject: ehronline web address change\\r\\nthis ...</td>\n",
       "      <td>0</td>\n",
       "    </tr>\n",
       "    <tr>\n",
       "      <th>6</th>\n",
       "      <td>2793</td>\n",
       "      <td>ham</td>\n",
       "      <td>Subject: spring savings certificate - take 30 ...</td>\n",
       "      <td>0</td>\n",
       "    </tr>\n",
       "    <tr>\n",
       "      <th>7</th>\n",
       "      <td>4185</td>\n",
       "      <td>spam</td>\n",
       "      <td>Subject: looking for medication ? we ` re the ...</td>\n",
       "      <td>1</td>\n",
       "    </tr>\n",
       "    <tr>\n",
       "      <th>8</th>\n",
       "      <td>2641</td>\n",
       "      <td>ham</td>\n",
       "      <td>Subject: noms / actual flow for 2 / 26\\r\\nwe a...</td>\n",
       "      <td>0</td>\n",
       "    </tr>\n",
       "    <tr>\n",
       "      <th>9</th>\n",
       "      <td>1870</td>\n",
       "      <td>ham</td>\n",
       "      <td>Subject: nominations for oct . 21 - 23 , 2000\\...</td>\n",
       "      <td>0</td>\n",
       "    </tr>\n",
       "  </tbody>\n",
       "</table>\n",
       "</div>"
      ],
      "text/plain": [
       "   Unnamed: 0 label                                               text  \\\n",
       "0         605   ham  Subject: enron methanol ; meter # : 988291\\r\\n...   \n",
       "1        2349   ham  Subject: hpl nom for january 9 , 2001\\r\\n( see...   \n",
       "2        3624   ham  Subject: neon retreat\\r\\nho ho ho , we ' re ar...   \n",
       "3        4685  spam  Subject: photoshop , windows , office . cheap ...   \n",
       "4        2030   ham  Subject: re : indian springs\\r\\nthis deal is t...   \n",
       "5        2949   ham  Subject: ehronline web address change\\r\\nthis ...   \n",
       "6        2793   ham  Subject: spring savings certificate - take 30 ...   \n",
       "7        4185  spam  Subject: looking for medication ? we ` re the ...   \n",
       "8        2641   ham  Subject: noms / actual flow for 2 / 26\\r\\nwe a...   \n",
       "9        1870   ham  Subject: nominations for oct . 21 - 23 , 2000\\...   \n",
       "\n",
       "   label_num  \n",
       "0          0  \n",
       "1          0  \n",
       "2          0  \n",
       "3          1  \n",
       "4          0  \n",
       "5          0  \n",
       "6          0  \n",
       "7          1  \n",
       "8          0  \n",
       "9          0  "
      ]
     },
     "execution_count": 3,
     "metadata": {},
     "output_type": "execute_result"
    }
   ],
   "source": [
    "df.head(10)"
   ]
  },
  {
   "cell_type": "code",
   "execution_count": 4,
   "id": "f2a7c824",
   "metadata": {},
   "outputs": [
    {
     "data": {
      "text/plain": [
       "\"Subject: enron methanol ; meter # : 988291\\r\\nthis is a follow up to the note i gave you on monday , 4 / 3 / 00 { preliminary\\r\\nflow data provided by daren } .\\r\\nplease override pop ' s daily volume { presently zero } to reflect daily\\r\\nactivity you can obtain from gas control .\\r\\nthis change is needed asap for economics purposes .\""
      ]
     },
     "execution_count": 4,
     "metadata": {},
     "output_type": "execute_result"
    }
   ],
   "source": [
    "# examining non-spam email\n",
    "df.iloc[0].text"
   ]
  },
  {
   "cell_type": "code",
   "execution_count": 5,
   "id": "ee9eac16",
   "metadata": {},
   "outputs": [
    {
     "data": {
      "text/plain": [
       "'Subject: photoshop , windows , office . cheap . main trending\\r\\nabasements darer prudently fortuitous undergone\\r\\nlighthearted charm orinoco taster\\r\\nrailroad affluent pornographic cuvier\\r\\nirvin parkhouse blameworthy chlorophyll\\r\\nrobed diagrammatic fogarty clears bayda\\r\\ninconveniencing managing represented smartness hashish\\r\\nacademies shareholders unload badness\\r\\ndanielson pure caffein\\r\\nspaniard chargeable levin\\r\\n'"
      ]
     },
     "execution_count": 5,
     "metadata": {},
     "output_type": "execute_result"
    }
   ],
   "source": [
    "# examining spam email\n",
    "df.iloc[3].text"
   ]
  },
  {
   "cell_type": "code",
   "execution_count": 6,
   "id": "8b6efd09",
   "metadata": {},
   "outputs": [
    {
     "data": {
      "text/plain": [
       "'Subject: looking for medication ? we ` re the best source .\\r\\nit is difficult to make our material condition better by the best law , but it is easy enough to ruin it by bad laws .\\r\\nexcuse me . . . : ) you just found the\\r\\nbest and simpliest site for\\r\\nmedication on the net . no perscription , easy\\r\\ndelivery .\\r\\nprivate , secure , and easy .\\r\\nbetter see rightly on a pound a week than squint on a million .\\r\\nwe ` ve got\\r\\nanything that you will ever want .\\r\\nerection treatment pills , anti - depressant pills , weight loss , and\\r\\nmore ! http : / / splicings . bombahakcx . com / 3 /\\r\\nknowledge and human power are synonymous .\\r\\nonly high - quality stuff for low rates !\\r\\n100 % moneyback guarantee !\\r\\nthere is no god , nature sufficeth unto herself in no wise hath she need of an author .'"
      ]
     },
     "execution_count": 6,
     "metadata": {},
     "output_type": "execute_result"
    }
   ],
   "source": [
    "df.iloc[7].text"
   ]
  },
  {
   "cell_type": "markdown",
   "id": "d1ade966",
   "metadata": {},
   "source": [
    "Comment: basic text processing work is necessary, ex: a lot \\r\\, \\n are not helping with our NLP model"
   ]
  },
  {
   "cell_type": "code",
   "execution_count": 7,
   "id": "a4b4b48f",
   "metadata": {},
   "outputs": [
    {
     "data": {
      "text/plain": [
       "ham     3672\n",
       "spam    1499\n",
       "Name: label, dtype: int64"
      ]
     },
     "execution_count": 7,
     "metadata": {},
     "output_type": "execute_result"
    }
   ],
   "source": [
    "# another thing to examine is distribution of spam vs non-spam \n",
    "df['label'].value_counts()"
   ]
  },
  {
   "cell_type": "markdown",
   "id": "6ef0f320",
   "metadata": {},
   "source": [
    "Comment: looks like we have an imbalanced dataset, a lot more non-spam emails"
   ]
  },
  {
   "cell_type": "markdown",
   "id": "3b215ecf",
   "metadata": {},
   "source": [
    "# Data Processing\n",
    "- make dataset balanced\n",
    "- remove special characters, remove stopwords, stemming, lemmatize words\n",
    "- transform words into numerical representation / word embedding"
   ]
  },
  {
   "cell_type": "markdown",
   "id": "1589365a",
   "metadata": {},
   "source": [
    "### train test split\n",
    "Because there is a lot of non-spam here, let's try to undersample the non-spam side here to be equal with spam. Spam is the real \"meat\" here!"
   ]
  },
  {
   "cell_type": "code",
   "execution_count": 8,
   "id": "4c7e4066",
   "metadata": {},
   "outputs": [
    {
     "data": {
      "text/html": [
       "<div>\n",
       "<style scoped>\n",
       "    .dataframe tbody tr th:only-of-type {\n",
       "        vertical-align: middle;\n",
       "    }\n",
       "\n",
       "    .dataframe tbody tr th {\n",
       "        vertical-align: top;\n",
       "    }\n",
       "\n",
       "    .dataframe thead th {\n",
       "        text-align: right;\n",
       "    }\n",
       "</style>\n",
       "<table border=\"1\" class=\"dataframe\">\n",
       "  <thead>\n",
       "    <tr style=\"text-align: right;\">\n",
       "      <th></th>\n",
       "      <th>Unnamed: 0</th>\n",
       "      <th>label</th>\n",
       "      <th>text</th>\n",
       "      <th>label_num</th>\n",
       "    </tr>\n",
       "  </thead>\n",
       "  <tbody>\n",
       "    <tr>\n",
       "      <th>631</th>\n",
       "      <td>1116</td>\n",
       "      <td>ham</td>\n",
       "      <td>Subject: revised 7 / 00 assignment , terminati...</td>\n",
       "      <td>0</td>\n",
       "    </tr>\n",
       "    <tr>\n",
       "      <th>5153</th>\n",
       "      <td>2583</td>\n",
       "      <td>ham</td>\n",
       "      <td>Subject: feb 12 th sale to aquila\\r\\nfyi\\r\\nda...</td>\n",
       "      <td>0</td>\n",
       "    </tr>\n",
       "    <tr>\n",
       "      <th>2558</th>\n",
       "      <td>267</td>\n",
       "      <td>ham</td>\n",
       "      <td>Subject: hpl / eastrans nom - 2 / 8 / 00 ; hpl...</td>\n",
       "      <td>0</td>\n",
       "    </tr>\n",
       "    <tr>\n",
       "      <th>153</th>\n",
       "      <td>3103</td>\n",
       "      <td>ham</td>\n",
       "      <td>Subject: oasis transport imbalances\\r\\ncurrent...</td>\n",
       "      <td>0</td>\n",
       "    </tr>\n",
       "    <tr>\n",
       "      <th>3127</th>\n",
       "      <td>1652</td>\n",
       "      <td>ham</td>\n",
       "      <td>Subject: hpl nom for sept . 22 , 2000\\r\\n( see...</td>\n",
       "      <td>0</td>\n",
       "    </tr>\n",
       "    <tr>\n",
       "      <th>...</th>\n",
       "      <td>...</td>\n",
       "      <td>...</td>\n",
       "      <td>...</td>\n",
       "      <td>...</td>\n",
       "    </tr>\n",
       "    <tr>\n",
       "      <th>5021</th>\n",
       "      <td>2273</td>\n",
       "      <td>ham</td>\n",
       "      <td>Subject: hpl meter # 986631 texoma - tejas hpl...</td>\n",
       "      <td>0</td>\n",
       "    </tr>\n",
       "    <tr>\n",
       "      <th>2388</th>\n",
       "      <td>1766</td>\n",
       "      <td>ham</td>\n",
       "      <td>Subject: tenaska iv texas partners , ltd .\\r\\n...</td>\n",
       "      <td>0</td>\n",
       "    </tr>\n",
       "    <tr>\n",
       "      <th>3645</th>\n",
       "      <td>2185</td>\n",
       "      <td>ham</td>\n",
       "      <td>Subject: tenaska iv 10 / 00\\r\\nwe have actuals...</td>\n",
       "      <td>0</td>\n",
       "    </tr>\n",
       "    <tr>\n",
       "      <th>816</th>\n",
       "      <td>2058</td>\n",
       "      <td>ham</td>\n",
       "      <td>Subject: retro assignments\\r\\nthis is a follow...</td>\n",
       "      <td>0</td>\n",
       "    </tr>\n",
       "    <tr>\n",
       "      <th>974</th>\n",
       "      <td>2783</td>\n",
       "      <td>ham</td>\n",
       "      <td>Subject: mobil beaumont\\r\\nbrian nichols of ex...</td>\n",
       "      <td>0</td>\n",
       "    </tr>\n",
       "  </tbody>\n",
       "</table>\n",
       "<p>1499 rows × 4 columns</p>\n",
       "</div>"
      ],
      "text/plain": [
       "      Unnamed: 0 label                                               text  \\\n",
       "631         1116   ham  Subject: revised 7 / 00 assignment , terminati...   \n",
       "5153        2583   ham  Subject: feb 12 th sale to aquila\\r\\nfyi\\r\\nda...   \n",
       "2558         267   ham  Subject: hpl / eastrans nom - 2 / 8 / 00 ; hpl...   \n",
       "153         3103   ham  Subject: oasis transport imbalances\\r\\ncurrent...   \n",
       "3127        1652   ham  Subject: hpl nom for sept . 22 , 2000\\r\\n( see...   \n",
       "...          ...   ...                                                ...   \n",
       "5021        2273   ham  Subject: hpl meter # 986631 texoma - tejas hpl...   \n",
       "2388        1766   ham  Subject: tenaska iv texas partners , ltd .\\r\\n...   \n",
       "3645        2185   ham  Subject: tenaska iv 10 / 00\\r\\nwe have actuals...   \n",
       "816         2058   ham  Subject: retro assignments\\r\\nthis is a follow...   \n",
       "974         2783   ham  Subject: mobil beaumont\\r\\nbrian nichols of ex...   \n",
       "\n",
       "      label_num  \n",
       "631           0  \n",
       "5153          0  \n",
       "2558          0  \n",
       "153           0  \n",
       "3127          0  \n",
       "...         ...  \n",
       "5021          0  \n",
       "2388          0  \n",
       "3645          0  \n",
       "816           0  \n",
       "974           0  \n",
       "\n",
       "[1499 rows x 4 columns]"
      ]
     },
     "execution_count": 8,
     "metadata": {},
     "output_type": "execute_result"
    }
   ],
   "source": [
    "ham_indices = df[df.label_num == 0].index\n",
    "np.random.seed(1)\n",
    "random_indices = np.random.choice(ham_indices, len(df[df.label_num == 1]), replace=False)\n",
    "ham_sample = df.loc[random_indices]\n",
    "ham_sample"
   ]
  },
  {
   "cell_type": "code",
   "execution_count": 9,
   "id": "c64cd0d9",
   "metadata": {},
   "outputs": [
    {
     "data": {
      "text/plain": [
       "ham     1499\n",
       "spam    1499\n",
       "Name: label, dtype: int64"
      ]
     },
     "execution_count": 9,
     "metadata": {},
     "output_type": "execute_result"
    }
   ],
   "source": [
    "# combine reduced ham with spam\n",
    "df2 = pd.concat([ham_sample, df[df['label_num'] == 1]], verify_integrity=True)\n",
    "df2['label'].value_counts()"
   ]
  },
  {
   "cell_type": "code",
   "execution_count": 10,
   "id": "237a3667",
   "metadata": {},
   "outputs": [
    {
     "name": "stdout",
     "output_type": "stream",
     "text": [
      "value counts of y_train is : 0    1049\n",
      "1    1049\n",
      "Name: label_num, dtype: int64\n",
      "value counts of y_test is : 0    450\n",
      "1    450\n",
      "Name: label_num, dtype: int64\n"
     ]
    }
   ],
   "source": [
    "# now that our data is balanced, let's split into training and testing set\n",
    "from sklearn.model_selection import train_test_split\n",
    "X_train, X_test, y_train, y_test = train_test_split(df2['text'], df2['label_num'], \n",
    "                                                    test_size=0.3, \n",
    "                                                    stratify=df2['label_num'],\n",
    "                                                    random_state=1)\n",
    "print('value counts of y_train is :', y_train.value_counts())\n",
    "print('value counts of y_test is :', y_test.value_counts())"
   ]
  },
  {
   "cell_type": "markdown",
   "id": "f01dc185",
   "metadata": {},
   "source": [
    "### Text Processing"
   ]
  },
  {
   "cell_type": "code",
   "execution_count": 11,
   "id": "0cead1fe",
   "metadata": {},
   "outputs": [
    {
     "name": "stderr",
     "output_type": "stream",
     "text": [
      "[nltk_data] Downloading package stopwords to\n",
      "[nltk_data]     C:\\Users\\jordan.yew\\AppData\\Roaming\\nltk_data...\n",
      "[nltk_data]   Package stopwords is already up-to-date!\n",
      "[nltk_data] Downloading package wordnet to\n",
      "[nltk_data]     C:\\Users\\jordan.yew\\AppData\\Roaming\\nltk_data...\n",
      "[nltk_data]   Package wordnet is already up-to-date!\n"
     ]
    }
   ],
   "source": [
    "# text preprocessing part\n",
    "import re\n",
    "import nltk\n",
    "nltk.download('stopwords')\n",
    "nltk.download('wordnet')\n",
    "\n",
    "from nltk.corpus import stopwords\n",
    "from nltk.stem import WordNetLemmatizer\n",
    "from nltk.stem.porter import PorterStemmer\n",
    "\n",
    "stemmer = WordNetLemmatizer()\n",
    "porter = PorterStemmer()\n",
    "STOPWORDS = set(stopwords.words('english'))\n",
    "\n",
    "def preprocessingText(corpus, lowercase=True, rmPunctuation=True, rpURL=True, rpNumber=True, stemming=True):\n",
    "    \"\"\"Input is assumed to be vector of documents\"\"\"\n",
    "\n",
    "    documents = []\n",
    "    for text in corpus:\n",
    "        document = text\n",
    "\n",
    "        # convert bytes into text\n",
    "        if type(text) == bytes:    \n",
    "            document = text.decode('utf-8', errors='ignore')\n",
    "\n",
    "        # HYPERPARAMETER\n",
    "        # Converting to Lowercase\n",
    "        if lowercase:\n",
    "            document = document.lower()\n",
    "\n",
    "        # replace URL\n",
    "        if rpURL:\n",
    "            # replace URL\n",
    "            document = re.sub(r'http\\S+', 'url', document, flags=re.MULTILINE)\n",
    "\n",
    "        # replace numbers\n",
    "        if rpNumber:\n",
    "            document = re.sub(\"\\d+\", \"number\", document)\n",
    "\n",
    "        # remove all special characters including punctuation\n",
    "        if rmPunctuation:\n",
    "            # only keep word\n",
    "            document = re.sub(r'\\W', ' ', document)\n",
    "            # remove all single characters\n",
    "            document = re.sub(r'\\s+[a-zA-Z]\\s+', ' ', document)\n",
    "            # Remove single characters from the start\n",
    "            document = re.sub(r'\\^[a-zA-Z]\\s+', ' ', document)\n",
    "\n",
    "        # OTHER PREPROCESSING METHODS\n",
    "        # Substituting multiple spaces with single space\n",
    "        document = re.sub(r'\\s+', ' ', document, flags=re.I)\n",
    "        # Removing prefixed 'b'\n",
    "        document = re.sub(r'^b\\s+', '', document)\n",
    "        \n",
    "        # removing stopwords\n",
    "        document = document.split()\n",
    "        document = [word for word in document if word not in STOPWORDS]\n",
    "\n",
    "        if stemming:\n",
    "            # Lemmatization\n",
    "            document = [stemmer.lemmatize(word) for word in document]\n",
    "            # stemming\n",
    "            document = [porter.stem(word) for word in document]\n",
    "\n",
    "        document = ' '.join(document)\n",
    "        documents.append(document)\n",
    "    return documents"
   ]
  },
  {
   "cell_type": "code",
   "execution_count": 12,
   "id": "2a3d7a80",
   "metadata": {},
   "outputs": [
    {
     "data": {
      "text/plain": [
       "array([[0., 0., 0., ..., 0., 0., 0.],\n",
       "       [0., 0., 0., ..., 0., 0., 0.],\n",
       "       [0., 0., 0., ..., 0., 0., 0.],\n",
       "       ...,\n",
       "       [0., 0., 0., ..., 0., 0., 0.],\n",
       "       [0., 0., 0., ..., 0., 0., 0.],\n",
       "       [0., 0., 0., ..., 0., 0., 0.]])"
      ]
     },
     "execution_count": 12,
     "metadata": {},
     "output_type": "execute_result"
    }
   ],
   "source": [
    "from sklearn.feature_extraction.text import TfidfVectorizer\n",
    "\n",
    "# perform text processing before fitting\n",
    "tfid = TfidfVectorizer()\n",
    "tfid.fit(preprocessingText(X_train))\n",
    "\n",
    "X_train_tf = tfid.transform(preprocessingText(X_train))\n",
    "X_test_tf = tfid.transform(preprocessingText(X_test))\n",
    "X_train_tf.toarray()"
   ]
  },
  {
   "cell_type": "markdown",
   "id": "17d284d0",
   "metadata": {},
   "source": [
    "# Model Fitting"
   ]
  },
  {
   "cell_type": "code",
   "execution_count": 13,
   "id": "f9eca335",
   "metadata": {},
   "outputs": [
    {
     "data": {
      "image/png": "[encoded data removed]",
      "text/plain": [
       "<Figure size 864x720 with 1 Axes>"
      ]
     },
     "metadata": {
      "needs_background": "light"
     },
     "output_type": "display_data"
    }
   ],
   "source": [
    "# let's do a quick comparison on different models\n",
    "from sklearn.model_selection import cross_val_score\n",
    "from sklearn.linear_model import LogisticRegression\n",
    "from sklearn.neighbors import KNeighborsClassifier\n",
    "from sklearn.tree import DecisionTreeClassifier\n",
    "from sklearn.metrics import f1_score\n",
    "import seaborn as sns\n",
    "import matplotlib.pyplot as plt\n",
    "\n",
    "# first logistic regression\n",
    "Cs = [1e-3,0.001,0.01,1,10,100]\n",
    "models = [LogisticRegression(C=c, solver='liblinear') for c in Cs]\n",
    "scores = []\n",
    "\n",
    "for C, model in zip(Cs, models):\n",
    "    model_name = str(C)\n",
    "    model_scores = cross_val_score(estimator=model, X=X_train_tf.toarray(), y=y_train, cv=5, scoring='f1')\n",
    "    for fold_idx, score in enumerate(model_scores):\n",
    "        scores.append((model_name, fold_idx, score))\n",
    "\n",
    "cv_df = pd.DataFrame(scores, columns=['name', \"fold_idx\", \"f1score\"])\n",
    "\n",
    "fig, ax = plt.subplots(figsize=(12,10))\n",
    "sns.boxplot(x='name', y='f1score', data=cv_df)\n",
    "sns.stripplot(x='name', y='f1score', data=cv_df, size=8, jitter=True, edgecolor='gray', linewidth=2)\n",
    "plt.show()"
   ]
  },
  {
   "cell_type": "markdown",
   "id": "2569b793",
   "metadata": {},
   "source": [
    "C = 100 is the best here for logistic regression"
   ]
  },
  {
   "cell_type": "code",
   "execution_count": 14,
   "id": "55da6229",
   "metadata": {},
   "outputs": [
    {
     "data": {
      "image/png": "[encoded data removed]",
      "text/plain": [
       "<Figure size 864x720 with 1 Axes>"
      ]
     },
     "metadata": {
      "needs_background": "light"
     },
     "output_type": "display_data"
    }
   ],
   "source": [
    "# second decision tree\n",
    "max_depths = [12,25,50,None]\n",
    "names = ['Depth_{}'.format(x) for x in max_depths]\n",
    "models = [DecisionTreeClassifier(criterion='gini', max_depth=md) for md in max_depths]\n",
    "\n",
    "scores = []\n",
    "\n",
    "for name, model in zip(names, models):\n",
    "    model_name = name\n",
    "    model_scores = cross_val_score(estimator=model, X=X_train_tf.toarray(), y=y_train, cv=5, scoring='f1')\n",
    "    for fold_idx, score in enumerate(model_scores):\n",
    "        scores.append((model_name, fold_idx, score))\n",
    "\n",
    "cv_df = pd.DataFrame(scores, columns=['name', \"fold_idx\", \"f1score\"])\n",
    "\n",
    "fig, ax = plt.subplots(figsize=(12,10))\n",
    "sns.boxplot(x='name', y='f1score', data=cv_df)\n",
    "sns.stripplot(x='name', y='f1score', data=cv_df, size=8, jitter=True, edgecolor='gray', linewidth=2)\n",
    "plt.show()"
   ]
  },
  {
   "cell_type": "markdown",
   "id": "a89b9058",
   "metadata": {},
   "source": [
    "depth = 25 is the best for decision tree, f1 score is lower than logistic"
   ]
  },
  {
   "cell_type": "code",
   "execution_count": 15,
   "id": "705848f1",
   "metadata": {},
   "outputs": [
    {
     "data": {
      "image/png": "[encoded data removed]",
      "text/plain": [
       "<Figure size 864x720 with 1 Axes>"
      ]
     },
     "metadata": {
      "needs_background": "light"
     },
     "output_type": "display_data"
    }
   ],
   "source": [
    "# third KNNs here\n",
    "neighbors = [2, 3, 5, 10, 20]\n",
    "knn_names = ['neighbor_{}'.format(n) for n in neighbors]\n",
    "models = [KNeighborsClassifier(n_neighbors=n, p=2, metric='minkowski') for n in neighbors]\n",
    "\n",
    "scores = []\n",
    "\n",
    "for name, model in zip(knn_names, models):\n",
    "    model_name = name\n",
    "    model_scores = cross_val_score(estimator=model, X=X_train_tf.toarray(), y=y_train, cv=5, scoring='f1')\n",
    "    for fold_idx, score in enumerate(model_scores):\n",
    "        scores.append((model_name, fold_idx, score))\n",
    "\n",
    "cv_df = pd.DataFrame(scores, columns=['name', \"fold_idx\", \"f1score\"])\n",
    "\n",
    "fig, ax = plt.subplots(figsize=(12,10))\n",
    "sns.boxplot(x='name', y='f1score', data=cv_df)\n",
    "sns.stripplot(x='name', y='f1score', data=cv_df, size=8, jitter=True, edgecolor='gray', linewidth=2)\n",
    "plt.show()"
   ]
  },
  {
   "cell_type": "markdown",
   "id": "edc9198e",
   "metadata": {},
   "source": [
    "5 neighbor is the best among all knn models"
   ]
  },
  {
   "cell_type": "code",
   "execution_count": null,
   "id": "a1916d1b",
   "metadata": {},
   "outputs": [],
   "source": []
  },
  {
   "cell_type": "code",
   "execution_count": 16,
   "id": "730678c5",
   "metadata": {},
   "outputs": [],
   "source": [
    "# let's use soft voting here\n",
    "from sklearn.ensemble import VotingClassifier\n",
    "\n",
    "clf1 = LogisticRegression(C=100, solver='liblinear')\n",
    "clf2 = DecisionTreeClassifier(criterion='gini', max_depth=25)\n",
    "clf3 = KNeighborsClassifier(n_neighbors=5, p=2, metric='minkowski')\n",
    "\n",
    "eclf1 = VotingClassifier(estimators=[         \n",
    "                        ('lr', clf1), ('dt', clf2), ('knn', clf3)], voting='soft')"
   ]
  },
  {
   "cell_type": "code",
   "execution_count": 17,
   "id": "b6c7959e",
   "metadata": {},
   "outputs": [],
   "source": [
    "eclf1.fit(X_train_tf.toarray(), y_train)\n",
    "y_pred = eclf1.predict(X_test_tf.toarray())"
   ]
  },
  {
   "cell_type": "code",
   "execution_count": 18,
   "id": "1db4f6fe",
   "metadata": {},
   "outputs": [
    {
     "name": "stderr",
     "output_type": "stream",
     "text": [
      "C:\\Users\\jordan.yew\\anaconda3\\envs\\horse\\lib\\site-packages\\sklearn\\utils\\deprecation.py:87: FutureWarning: Function plot_confusion_matrix is deprecated; Function `plot_confusion_matrix` is deprecated in 1.0 and will be removed in 1.2. Use one of the class methods: ConfusionMatrixDisplay.from_predictions or ConfusionMatrixDisplay.from_estimator.\n",
      "  warnings.warn(msg, category=FutureWarning)\n"
     ]
    },
    {
     "data": {
      "image/png": "[encoded data removed]",
      "text/plain": [
       "<Figure size 432x288 with 2 Axes>"
      ]
     },
     "metadata": {
      "needs_background": "light"
     },
     "output_type": "display_data"
    },
    {
     "name": "stdout",
     "output_type": "stream",
     "text": [
      "accuracy score on testing data is 98.00%\n",
      "precision score on testing data is 96.75%\n",
      "recall score on testing data is 99.33%\n",
      "f1 score on testing data is 98.03%\n"
     ]
    }
   ],
   "source": [
    "from sklearn.metrics import plot_confusion_matrix\n",
    "from sklearn.metrics import accuracy_score\n",
    "from sklearn.metrics import precision_score\n",
    "from sklearn.metrics import recall_score\n",
    "from sklearn.metrics import f1_score\n",
    "\n",
    "\n",
    "plot_confusion_matrix(eclf1, X_test_tf.toarray(), y_test)\n",
    "plt.show()\n",
    "\n",
    "print(\"accuracy score on testing data is {:.2f}%\".format(accuracy_score(y_test, y_pred) * 100 ))\n",
    "print(\"precision score on testing data is {:.2f}%\".format(precision_score(y_test, y_pred) * 100 ))\n",
    "print(\"recall score on testing data is {:.2f}%\".format(recall_score(y_test, y_pred) * 100 ))\n",
    "print(\"f1 score on testing data is {:.2f}%\".format(f1_score(y_test, y_pred) * 100 ))"
   ]
  },
  {
   "cell_type": "markdown",
   "id": "46e53b2f",
   "metadata": {},
   "source": [
    "Looks quite good! Three models ensembled together to give us a F1 score of 98.03%. Let's export our model..."
   ]
  },
  {
   "cell_type": "code",
   "execution_count": 19,
   "id": "7db09cbe",
   "metadata": {},
   "outputs": [
    {
     "data": {
      "text/plain": [
       "['finalized_model.sav']"
      ]
     },
     "execution_count": 19,
     "metadata": {},
     "output_type": "execute_result"
    }
   ],
   "source": [
    "import joblib\n",
    "\n",
    "filename1 = 'tfid_convertor.sav'\n",
    "joblib.dump(tfid, filename1)\n",
    "\n",
    "filename2 = 'finalized_model.sav'\n",
    "joblib.dump(eclf1, filename2)"
   ]
  },
  {
   "cell_type": "code",
   "execution_count": null,
   "id": "b32a7227",
   "metadata": {},
   "outputs": [],
   "source": []
  }
 ],
 "metadata": {
  "kernelspec": {
   "display_name": "Python 3",
   "language": "python",
   "name": "python3"
  },
  "language_info": {
   "codemirror_mode": {
    "name": "ipython",
    "version": 3
   },
   "file_extension": ".py",
   "mimetype": "text/x-python",
   "name": "python",
   "nbconvert_exporter": "python",
   "pygments_lexer": "ipython3",
   "version": "3.8.8"
  }
 },
 "nbformat": 4,
 "nbformat_minor": 5
}
